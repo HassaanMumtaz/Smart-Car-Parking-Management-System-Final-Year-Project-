{
 "cells": [
  {
   "cell_type": "code",
   "execution_count": 1,
   "id": "4ef90aa1-ed47-4d0b-bbc3-57b921558681",
   "metadata": {},
   "outputs": [],
   "source": [
    "import pandas as pd\n",
    "from datetime import datetime\n",
    "import seaborn as sns\n",
    "sns.set_theme(style=\"darkgrid\")"
   ]
  },
  {
   "cell_type": "markdown",
   "id": "37587fb7",
   "metadata": {},
   "source": [
    "# Visualization Plots for People Data #\n",
    "**Note:** This data is the list of ALL the people currently in our database. "
   ]
  },
  {
   "cell_type": "code",
   "execution_count": 2,
   "id": "98c65943",
   "metadata": {},
   "outputs": [],
   "source": [
    "df_org=pd.read_json(\"C:/Users/Hassaan/Desktop/Final Year/DataViz/_people.json\")"
   ]
  },
  {
   "cell_type": "code",
   "execution_count": 3,
   "id": "6969ef9e",
   "metadata": {},
   "outputs": [
    {
     "data": {
      "text/html": [
       "<div>\n",
       "<style scoped>\n",
       "    .dataframe tbody tr th:only-of-type {\n",
       "        vertical-align: middle;\n",
       "    }\n",
       "\n",
       "    .dataframe tbody tr th {\n",
       "        vertical-align: top;\n",
       "    }\n",
       "\n",
       "    .dataframe thead th {\n",
       "        text-align: right;\n",
       "    }\n",
       "</style>\n",
       "<table border=\"1\" class=\"dataframe\">\n",
       "  <thead>\n",
       "    <tr style=\"text-align: right;\">\n",
       "      <th></th>\n",
       "      <th>Batch</th>\n",
       "      <th>Department</th>\n",
       "      <th>Due_Date</th>\n",
       "      <th>Fee_Paid</th>\n",
       "      <th>Male</th>\n",
       "      <th>Name</th>\n",
       "      <th>Number_Plate</th>\n",
       "      <th>Roll_No</th>\n",
       "      <th>__id__</th>\n",
       "      <th>email</th>\n",
       "    </tr>\n",
       "  </thead>\n",
       "  <tbody>\n",
       "    <tr>\n",
       "      <th>0</th>\n",
       "      <td>2018</td>\n",
       "      <td>EE</td>\n",
       "      <td>__Timestamp__2022-06-23T19:00:00.000Z</td>\n",
       "      <td>True</td>\n",
       "      <td>True</td>\n",
       "      <td>Raheem</td>\n",
       "      <td>RLG5</td>\n",
       "      <td>18L1269</td>\n",
       "      <td>Person 1</td>\n",
       "      <td>l181269@lhr.nu.edu.pk</td>\n",
       "    </tr>\n",
       "    <tr>\n",
       "      <th>1</th>\n",
       "      <td>2018</td>\n",
       "      <td>CS</td>\n",
       "      <td>__Timestamp__2022-06-02T19:00:00.000Z</td>\n",
       "      <td>True</td>\n",
       "      <td>True</td>\n",
       "      <td>Latif</td>\n",
       "      <td>AGN218</td>\n",
       "      <td>18L0423</td>\n",
       "      <td>Person 10</td>\n",
       "      <td>NaN</td>\n",
       "    </tr>\n",
       "    <tr>\n",
       "      <th>2</th>\n",
       "      <td>2017</td>\n",
       "      <td>EE</td>\n",
       "      <td>__Timestamp__2022-05-23T19:00:00.000Z</td>\n",
       "      <td>False</td>\n",
       "      <td>True</td>\n",
       "      <td>Aqib</td>\n",
       "      <td>LEC3378</td>\n",
       "      <td>17L1311</td>\n",
       "      <td>Person 11</td>\n",
       "      <td>NaN</td>\n",
       "    </tr>\n",
       "    <tr>\n",
       "      <th>3</th>\n",
       "      <td>2018</td>\n",
       "      <td>CS</td>\n",
       "      <td>__Timestamp__2022-05-19T19:00:00.000Z</td>\n",
       "      <td>False</td>\n",
       "      <td>False</td>\n",
       "      <td>Sadia</td>\n",
       "      <td>LOW6416</td>\n",
       "      <td>18L0391</td>\n",
       "      <td>Person 12</td>\n",
       "      <td>NaN</td>\n",
       "    </tr>\n",
       "    <tr>\n",
       "      <th>4</th>\n",
       "      <td>2017</td>\n",
       "      <td>CV</td>\n",
       "      <td>__Timestamp__2022-06-12T19:00:00.000Z</td>\n",
       "      <td>True</td>\n",
       "      <td>True</td>\n",
       "      <td>Zulfiqar</td>\n",
       "      <td>LEA5772</td>\n",
       "      <td>17L1542</td>\n",
       "      <td>Person 13</td>\n",
       "      <td>NaN</td>\n",
       "    </tr>\n",
       "  </tbody>\n",
       "</table>\n",
       "</div>"
      ],
      "text/plain": [
       "   Batch Department                               Due_Date  Fee_Paid   Male  \\\n",
       "0   2018         EE  __Timestamp__2022-06-23T19:00:00.000Z      True   True   \n",
       "1   2018         CS  __Timestamp__2022-06-02T19:00:00.000Z      True   True   \n",
       "2   2017         EE  __Timestamp__2022-05-23T19:00:00.000Z     False   True   \n",
       "3   2018         CS  __Timestamp__2022-05-19T19:00:00.000Z     False  False   \n",
       "4   2017         CV  __Timestamp__2022-06-12T19:00:00.000Z      True   True   \n",
       "\n",
       "       Name Number_Plate  Roll_No     __id__                  email  \n",
       "0    Raheem         RLG5  18L1269   Person 1  l181269@lhr.nu.edu.pk  \n",
       "1     Latif       AGN218  18L0423  Person 10                    NaN  \n",
       "2      Aqib      LEC3378  17L1311  Person 11                    NaN  \n",
       "3     Sadia      LOW6416  18L0391  Person 12                    NaN  \n",
       "4  Zulfiqar      LEA5772  17L1542  Person 13                    NaN  "
      ]
     },
     "execution_count": 3,
     "metadata": {},
     "output_type": "execute_result"
    }
   ],
   "source": [
    "df_org.head()"
   ]
  },
  {
   "cell_type": "code",
   "execution_count": 4,
   "id": "f0a2a23b",
   "metadata": {},
   "outputs": [
    {
     "data": {
      "text/plain": [
       "20"
      ]
     },
     "execution_count": 4,
     "metadata": {},
     "output_type": "execute_result"
    }
   ],
   "source": [
    "df_org['Batch'].count()"
   ]
  },
  {
   "cell_type": "markdown",
   "id": "2ebac5df",
   "metadata": {},
   "source": [
    "**Number total of Males VS Females**"
   ]
  },
  {
   "cell_type": "code",
   "execution_count": 5,
   "id": "6768174f",
   "metadata": {},
   "outputs": [
    {
     "data": {
      "text/plain": [
       "<AxesSubplot:xlabel='Male', ylabel='count'>"
      ]
     },
     "execution_count": 5,
     "metadata": {},
     "output_type": "execute_result"
    },
    {
     "data": {
      "image/png": "[encoded data removed]",
      "text/plain": [
       "<Figure size 432x288 with 1 Axes>"
      ]
     },
     "metadata": {},
     "output_type": "display_data"
    }
   ],
   "source": [
    "sns.countplot(data=df_org,x='Male',palette='Oranges',alpha=0.7)"
   ]
  },
  {
   "cell_type": "markdown",
   "id": "80e02209",
   "metadata": {},
   "source": [
    "**Fee Paid VS Unpaid**"
   ]
  },
  {
   "cell_type": "code",
   "execution_count": 6,
   "id": "cf943431",
   "metadata": {},
   "outputs": [
    {
     "data": {
      "text/plain": [
       "<AxesSubplot:xlabel='Fee_Paid', ylabel='count'>"
      ]
     },
     "execution_count": 6,
     "metadata": {},
     "output_type": "execute_result"
    },
    {
     "data": {
      "image/png": "[encoded data removed]",
      "text/plain": [
       "<Figure size 432x288 with 1 Axes>"
      ]
     },
     "metadata": {},
     "output_type": "display_data"
    }
   ],
   "source": [
    "sns.countplot(data=df_org,x='Fee_Paid',palette='Accent',alpha=0.7)"
   ]
  },
  {
   "cell_type": "markdown",
   "id": "dc350a6e",
   "metadata": {},
   "source": [
    "**Number of Total People based on Gender in each Department**"
   ]
  },
  {
   "cell_type": "code",
   "execution_count": 7,
   "id": "d4125ca8",
   "metadata": {},
   "outputs": [
    {
     "data": {
      "text/plain": [
       "<AxesSubplot:xlabel='Department', ylabel='count'>"
      ]
     },
     "execution_count": 7,
     "metadata": {},
     "output_type": "execute_result"
    },
    {
     "data": {
      "image/png": "[encoded data removed]",
      "text/plain": [
       "<Figure size 432x288 with 1 Axes>"
      ]
     },
     "metadata": {},
     "output_type": "display_data"
    }
   ],
   "source": [
    "sns.countplot(data=df_org,x='Department',hue='Male',palette='GnBu',alpha=0.7)"
   ]
  },
  {
   "cell_type": "markdown",
   "id": "989806ba",
   "metadata": {},
   "source": [
    "**Number of Total People based on Gender in each Batch**"
   ]
  },
  {
   "cell_type": "code",
   "execution_count": 8,
   "id": "d16f7e07",
   "metadata": {},
   "outputs": [
    {
     "data": {
      "text/plain": [
       "<AxesSubplot:xlabel='Batch', ylabel='count'>"
      ]
     },
     "execution_count": 8,
     "metadata": {},
     "output_type": "execute_result"
    },
    {
     "data": {
      "image/png": "[encoded data removed]",
      "text/plain": [
       "<Figure size 432x288 with 1 Axes>"
      ]
     },
     "metadata": {},
     "output_type": "display_data"
    }
   ],
   "source": [
    "sns.countplot(data=df_org,x='Batch',hue='Male',palette='Blues',alpha=0.7)"
   ]
  },
  {
   "cell_type": "markdown",
   "id": "f0ec37fa",
   "metadata": {},
   "source": [
    "# Visualization Plots for People in Parking Lot #\n",
    "**Note:** This data is the list of ALL the people that have fully PAID their dues, that have entered the parking lot on days from 23-05-2022(Monday) to\n",
    "27-05-22(Friday)."
   ]
  },
  {
   "cell_type": "code",
   "execution_count": 9,
   "id": "3dba3ea5-8864-4d7a-a709-e8324849f8dd",
   "metadata": {},
   "outputs": [],
   "source": [
    "df=pd.read_json(\"C:/Users/Hassaan/Desktop/Final Year/DataViz/FinalData.json\")"
   ]
  },
  {
   "cell_type": "code",
   "execution_count": 10,
   "id": "84052d45",
   "metadata": {},
   "outputs": [
    {
     "data": {
      "text/html": [
       "<div>\n",
       "<style scoped>\n",
       "    .dataframe tbody tr th:only-of-type {\n",
       "        vertical-align: middle;\n",
       "    }\n",
       "\n",
       "    .dataframe tbody tr th {\n",
       "        vertical-align: top;\n",
       "    }\n",
       "\n",
       "    .dataframe thead th {\n",
       "        text-align: right;\n",
       "    }\n",
       "</style>\n",
       "<table border=\"1\" class=\"dataframe\">\n",
       "  <thead>\n",
       "    <tr style=\"text-align: right;\">\n",
       "      <th></th>\n",
       "      <th>Batch</th>\n",
       "      <th>Department</th>\n",
       "      <th>Due_Date</th>\n",
       "      <th>Fee_Paid</th>\n",
       "      <th>Male</th>\n",
       "      <th>Name</th>\n",
       "      <th>Number_Plate</th>\n",
       "      <th>Roll_No</th>\n",
       "      <th>Time_Of_Entry</th>\n",
       "      <th>__id__</th>\n",
       "      <th>Time_Of_Exit</th>\n",
       "      <th>email</th>\n",
       "    </tr>\n",
       "  </thead>\n",
       "  <tbody>\n",
       "    <tr>\n",
       "      <th>0</th>\n",
       "      <td>2018</td>\n",
       "      <td>CS</td>\n",
       "      <td>__Timestamp__2022-06-16T19:00:00.000Z</td>\n",
       "      <td>True</td>\n",
       "      <td>True</td>\n",
       "      <td>Kashan</td>\n",
       "      <td>ADJ010</td>\n",
       "      <td>18L1313</td>\n",
       "      <td>__Timestamp__2022-06-11T11:32:11.647Z</td>\n",
       "      <td>0A4LbbBtNYdLfRUTL0mU</td>\n",
       "      <td>NaN</td>\n",
       "      <td>NaN</td>\n",
       "    </tr>\n",
       "    <tr>\n",
       "      <th>1</th>\n",
       "      <td>2018</td>\n",
       "      <td>CS</td>\n",
       "      <td>__Timestamp__2022-06-02T19:00:00.000Z</td>\n",
       "      <td>True</td>\n",
       "      <td>True</td>\n",
       "      <td>Faizan</td>\n",
       "      <td>LEA3422</td>\n",
       "      <td>18L0943</td>\n",
       "      <td>__Timestamp__2022-06-11T12:24:10.690Z</td>\n",
       "      <td>0DYwww0P1HkhW0SYgsCB</td>\n",
       "      <td>NaN</td>\n",
       "      <td>NaN</td>\n",
       "    </tr>\n",
       "    <tr>\n",
       "      <th>2</th>\n",
       "      <td>2018</td>\n",
       "      <td>CS</td>\n",
       "      <td>__Timestamp__2022-06-02T19:00:00.000Z</td>\n",
       "      <td>True</td>\n",
       "      <td>True</td>\n",
       "      <td>Latif</td>\n",
       "      <td>AGN218</td>\n",
       "      <td>18L0423</td>\n",
       "      <td>__Timestamp__2022-05-23T09:16:00.199Z</td>\n",
       "      <td>0KsG3mW9H7hFItLlLbhN</td>\n",
       "      <td>__Timestamp__2022-05-23T13:16:09.355Z</td>\n",
       "      <td>NaN</td>\n",
       "    </tr>\n",
       "    <tr>\n",
       "      <th>3</th>\n",
       "      <td>2018</td>\n",
       "      <td>CS</td>\n",
       "      <td>__Timestamp__2022-05-31T19:00:00.000Z</td>\n",
       "      <td>True</td>\n",
       "      <td>True</td>\n",
       "      <td>Hamza</td>\n",
       "      <td>LEF191</td>\n",
       "      <td>18L0925</td>\n",
       "      <td>__Timestamp__2022-06-11T16:59:53.140Z</td>\n",
       "      <td>0RLtru4gpY4O4e4CPHQC</td>\n",
       "      <td>NaN</td>\n",
       "      <td>NaN</td>\n",
       "    </tr>\n",
       "    <tr>\n",
       "      <th>4</th>\n",
       "      <td>2018</td>\n",
       "      <td>EE</td>\n",
       "      <td>__Timestamp__2022-05-30T19:00:00.000Z</td>\n",
       "      <td>True</td>\n",
       "      <td>False</td>\n",
       "      <td>Mahreen</td>\n",
       "      <td>LEB4333</td>\n",
       "      <td>18L1325</td>\n",
       "      <td>__Timestamp__2022-05-25T08:30:17.779Z</td>\n",
       "      <td>1NflvJwuoIUW9x0N7r2O</td>\n",
       "      <td>__Timestamp__2022-05-25T10:03:27.508Z</td>\n",
       "      <td>NaN</td>\n",
       "    </tr>\n",
       "  </tbody>\n",
       "</table>\n",
       "</div>"
      ],
      "text/plain": [
       "   Batch Department                               Due_Date  Fee_Paid   Male  \\\n",
       "0   2018         CS  __Timestamp__2022-06-16T19:00:00.000Z      True   True   \n",
       "1   2018         CS  __Timestamp__2022-06-02T19:00:00.000Z      True   True   \n",
       "2   2018         CS  __Timestamp__2022-06-02T19:00:00.000Z      True   True   \n",
       "3   2018         CS  __Timestamp__2022-05-31T19:00:00.000Z      True   True   \n",
       "4   2018         EE  __Timestamp__2022-05-30T19:00:00.000Z      True  False   \n",
       "\n",
       "      Name Number_Plate  Roll_No                          Time_Of_Entry  \\\n",
       "0   Kashan       ADJ010  18L1313  __Timestamp__2022-06-11T11:32:11.647Z   \n",
       "1   Faizan      LEA3422  18L0943  __Timestamp__2022-06-11T12:24:10.690Z   \n",
       "2    Latif       AGN218  18L0423  __Timestamp__2022-05-23T09:16:00.199Z   \n",
       "3    Hamza       LEF191  18L0925  __Timestamp__2022-06-11T16:59:53.140Z   \n",
       "4  Mahreen      LEB4333  18L1325  __Timestamp__2022-05-25T08:30:17.779Z   \n",
       "\n",
       "                 __id__                           Time_Of_Exit email  \n",
       "0  0A4LbbBtNYdLfRUTL0mU                                    NaN   NaN  \n",
       "1  0DYwww0P1HkhW0SYgsCB                                    NaN   NaN  \n",
       "2  0KsG3mW9H7hFItLlLbhN  __Timestamp__2022-05-23T13:16:09.355Z   NaN  \n",
       "3  0RLtru4gpY4O4e4CPHQC                                    NaN   NaN  \n",
       "4  1NflvJwuoIUW9x0N7r2O  __Timestamp__2022-05-25T10:03:27.508Z   NaN  "
      ]
     },
     "execution_count": 10,
     "metadata": {},
     "output_type": "execute_result"
    }
   ],
   "source": [
    "df.head()"
   ]
  },
  {
   "cell_type": "code",
   "execution_count": 11,
   "id": "c9d97c1f",
   "metadata": {},
   "outputs": [
    {
     "name": "stdout",
     "output_type": "stream",
     "text": [
      "<class 'pandas.core.frame.DataFrame'>\n",
      "RangeIndex: 106 entries, 0 to 105\n",
      "Data columns (total 12 columns):\n",
      " #   Column         Non-Null Count  Dtype \n",
      "---  ------         --------------  ----- \n",
      " 0   Batch          106 non-null    int64 \n",
      " 1   Department     106 non-null    object\n",
      " 2   Due_Date       106 non-null    object\n",
      " 3   Fee_Paid       106 non-null    bool  \n",
      " 4   Male           106 non-null    bool  \n",
      " 5   Name           106 non-null    object\n",
      " 6   Number_Plate   106 non-null    object\n",
      " 7   Roll_No        106 non-null    object\n",
      " 8   Time_Of_Entry  106 non-null    object\n",
      " 9   __id__         106 non-null    object\n",
      " 10  Time_Of_Exit   53 non-null     object\n",
      " 11  email          22 non-null     object\n",
      "dtypes: bool(2), int64(1), object(9)\n",
      "memory usage: 8.6+ KB\n"
     ]
    }
   ],
   "source": [
    "df.info()"
   ]
  },
  {
   "cell_type": "code",
   "execution_count": 12,
   "id": "bfccaf3b",
   "metadata": {},
   "outputs": [],
   "source": [
    "df2=df.dropna(subset=['Time_Of_Exit'])"
   ]
  },
  {
   "cell_type": "code",
   "execution_count": 13,
   "id": "5e11fa4e",
   "metadata": {},
   "outputs": [
    {
     "name": "stderr",
     "output_type": "stream",
     "text": [
      "C:\\Users\\Hassaan\\anaconda3\\lib\\site-packages\\pandas\\core\\frame.py:4906: SettingWithCopyWarning: \n",
      "A value is trying to be set on a copy of a slice from a DataFrame\n",
      "\n",
      "See the caveats in the documentation: https://pandas.pydata.org/pandas-docs/stable/user_guide/indexing.html#returning-a-view-versus-a-copy\n",
      "  return super().drop(\n"
     ]
    }
   ],
   "source": [
    "df2.drop(['Roll_No','__id__','email'],axis=1,inplace=True)"
   ]
  },
  {
   "cell_type": "code",
   "execution_count": 14,
   "id": "c82e1bdd",
   "metadata": {},
   "outputs": [
    {
     "data": {
      "text/html": [
       "<div>\n",
       "<style scoped>\n",
       "    .dataframe tbody tr th:only-of-type {\n",
       "        vertical-align: middle;\n",
       "    }\n",
       "\n",
       "    .dataframe tbody tr th {\n",
       "        vertical-align: top;\n",
       "    }\n",
       "\n",
       "    .dataframe thead th {\n",
       "        text-align: right;\n",
       "    }\n",
       "</style>\n",
       "<table border=\"1\" class=\"dataframe\">\n",
       "  <thead>\n",
       "    <tr style=\"text-align: right;\">\n",
       "      <th></th>\n",
       "      <th>Batch</th>\n",
       "      <th>Department</th>\n",
       "      <th>Due_Date</th>\n",
       "      <th>Fee_Paid</th>\n",
       "      <th>Male</th>\n",
       "      <th>Name</th>\n",
       "      <th>Number_Plate</th>\n",
       "      <th>Time_Of_Entry</th>\n",
       "      <th>Time_Of_Exit</th>\n",
       "    </tr>\n",
       "  </thead>\n",
       "  <tbody>\n",
       "    <tr>\n",
       "      <th>2</th>\n",
       "      <td>2018</td>\n",
       "      <td>CS</td>\n",
       "      <td>__Timestamp__2022-06-02T19:00:00.000Z</td>\n",
       "      <td>True</td>\n",
       "      <td>True</td>\n",
       "      <td>Latif</td>\n",
       "      <td>AGN218</td>\n",
       "      <td>__Timestamp__2022-05-23T09:16:00.199Z</td>\n",
       "      <td>__Timestamp__2022-05-23T13:16:09.355Z</td>\n",
       "    </tr>\n",
       "    <tr>\n",
       "      <th>4</th>\n",
       "      <td>2018</td>\n",
       "      <td>EE</td>\n",
       "      <td>__Timestamp__2022-05-30T19:00:00.000Z</td>\n",
       "      <td>True</td>\n",
       "      <td>False</td>\n",
       "      <td>Mahreen</td>\n",
       "      <td>LEB4333</td>\n",
       "      <td>__Timestamp__2022-05-25T08:30:17.779Z</td>\n",
       "      <td>__Timestamp__2022-05-25T10:03:27.508Z</td>\n",
       "    </tr>\n",
       "    <tr>\n",
       "      <th>5</th>\n",
       "      <td>2018</td>\n",
       "      <td>EE</td>\n",
       "      <td>__Timestamp__2022-06-23T19:00:00.000Z</td>\n",
       "      <td>True</td>\n",
       "      <td>True</td>\n",
       "      <td>Raheem</td>\n",
       "      <td>RLG5</td>\n",
       "      <td>__Timestamp__2022-05-24T08:40:49.283Z</td>\n",
       "      <td>__Timestamp__2022-05-24T13:16:27.313Z</td>\n",
       "    </tr>\n",
       "    <tr>\n",
       "      <th>8</th>\n",
       "      <td>2018</td>\n",
       "      <td>CS</td>\n",
       "      <td>__Timestamp__2022-06-16T19:00:00.000Z</td>\n",
       "      <td>True</td>\n",
       "      <td>True</td>\n",
       "      <td>Kashan</td>\n",
       "      <td>ADJ010</td>\n",
       "      <td>__Timestamp__2022-05-23T08:26:11.647Z</td>\n",
       "      <td>__Timestamp__2022-05-23T10:07:37.510Z</td>\n",
       "    </tr>\n",
       "    <tr>\n",
       "      <th>10</th>\n",
       "      <td>2018</td>\n",
       "      <td>EE</td>\n",
       "      <td>__Timestamp__2022-05-30T19:00:00.000Z</td>\n",
       "      <td>True</td>\n",
       "      <td>False</td>\n",
       "      <td>Mahreen</td>\n",
       "      <td>LEB4333</td>\n",
       "      <td>__Timestamp__2022-05-26T14:28:44.752Z</td>\n",
       "      <td>__Timestamp__2022-05-26T16:06:02.463Z</td>\n",
       "    </tr>\n",
       "  </tbody>\n",
       "</table>\n",
       "</div>"
      ],
      "text/plain": [
       "    Batch Department                               Due_Date  Fee_Paid   Male  \\\n",
       "2    2018         CS  __Timestamp__2022-06-02T19:00:00.000Z      True   True   \n",
       "4    2018         EE  __Timestamp__2022-05-30T19:00:00.000Z      True  False   \n",
       "5    2018         EE  __Timestamp__2022-06-23T19:00:00.000Z      True   True   \n",
       "8    2018         CS  __Timestamp__2022-06-16T19:00:00.000Z      True   True   \n",
       "10   2018         EE  __Timestamp__2022-05-30T19:00:00.000Z      True  False   \n",
       "\n",
       "       Name Number_Plate                          Time_Of_Entry  \\\n",
       "2     Latif       AGN218  __Timestamp__2022-05-23T09:16:00.199Z   \n",
       "4   Mahreen      LEB4333  __Timestamp__2022-05-25T08:30:17.779Z   \n",
       "5    Raheem         RLG5  __Timestamp__2022-05-24T08:40:49.283Z   \n",
       "8    Kashan       ADJ010  __Timestamp__2022-05-23T08:26:11.647Z   \n",
       "10  Mahreen      LEB4333  __Timestamp__2022-05-26T14:28:44.752Z   \n",
       "\n",
       "                             Time_Of_Exit  \n",
       "2   __Timestamp__2022-05-23T13:16:09.355Z  \n",
       "4   __Timestamp__2022-05-25T10:03:27.508Z  \n",
       "5   __Timestamp__2022-05-24T13:16:27.313Z  \n",
       "8   __Timestamp__2022-05-23T10:07:37.510Z  \n",
       "10  __Timestamp__2022-05-26T16:06:02.463Z  "
      ]
     },
     "execution_count": 14,
     "metadata": {},
     "output_type": "execute_result"
    }
   ],
   "source": [
    "df2.head()"
   ]
  },
  {
   "cell_type": "code",
   "execution_count": 15,
   "id": "775773cb",
   "metadata": {},
   "outputs": [
    {
     "name": "stdout",
     "output_type": "stream",
     "text": [
      "<class 'pandas.core.frame.DataFrame'>\n",
      "Int64Index: 53 entries, 2 to 105\n",
      "Data columns (total 9 columns):\n",
      " #   Column         Non-Null Count  Dtype \n",
      "---  ------         --------------  ----- \n",
      " 0   Batch          53 non-null     int64 \n",
      " 1   Department     53 non-null     object\n",
      " 2   Due_Date       53 non-null     object\n",
      " 3   Fee_Paid       53 non-null     bool  \n",
      " 4   Male           53 non-null     bool  \n",
      " 5   Name           53 non-null     object\n",
      " 6   Number_Plate   53 non-null     object\n",
      " 7   Time_Of_Entry  53 non-null     object\n",
      " 8   Time_Of_Exit   53 non-null     object\n",
      "dtypes: bool(2), int64(1), object(6)\n",
      "memory usage: 3.4+ KB\n"
     ]
    }
   ],
   "source": [
    "df2.info()"
   ]
  },
  {
   "cell_type": "code",
   "execution_count": 16,
   "id": "271b300c",
   "metadata": {},
   "outputs": [],
   "source": [
    "df2.reset_index(inplace=True)"
   ]
  },
  {
   "cell_type": "code",
   "execution_count": 17,
   "id": "ae0b0335",
   "metadata": {},
   "outputs": [
    {
     "data": {
      "text/html": [
       "<div>\n",
       "<style scoped>\n",
       "    .dataframe tbody tr th:only-of-type {\n",
       "        vertical-align: middle;\n",
       "    }\n",
       "\n",
       "    .dataframe tbody tr th {\n",
       "        vertical-align: top;\n",
       "    }\n",
       "\n",
       "    .dataframe thead th {\n",
       "        text-align: right;\n",
       "    }\n",
       "</style>\n",
       "<table border=\"1\" class=\"dataframe\">\n",
       "  <thead>\n",
       "    <tr style=\"text-align: right;\">\n",
       "      <th></th>\n",
       "      <th>index</th>\n",
       "      <th>Batch</th>\n",
       "      <th>Department</th>\n",
       "      <th>Due_Date</th>\n",
       "      <th>Fee_Paid</th>\n",
       "      <th>Male</th>\n",
       "      <th>Name</th>\n",
       "      <th>Number_Plate</th>\n",
       "      <th>Time_Of_Entry</th>\n",
       "      <th>Time_Of_Exit</th>\n",
       "    </tr>\n",
       "  </thead>\n",
       "  <tbody>\n",
       "    <tr>\n",
       "      <th>13</th>\n",
       "      <td>32</td>\n",
       "      <td>2018</td>\n",
       "      <td>EE</td>\n",
       "      <td>__Timestamp__2022-06-08T19:00:00.000Z</td>\n",
       "      <td>True</td>\n",
       "      <td>False</td>\n",
       "      <td>Maarij</td>\n",
       "      <td>AAD419</td>\n",
       "      <td>__Timestamp__2022-05-23T08:37:57.404Z</td>\n",
       "      <td>__Timestamp__2022-05-23T11:42:49.641Z</td>\n",
       "    </tr>\n",
       "    <tr>\n",
       "      <th>50</th>\n",
       "      <td>100</td>\n",
       "      <td>2018</td>\n",
       "      <td>EE</td>\n",
       "      <td>__Timestamp__2022-06-08T19:00:00.000Z</td>\n",
       "      <td>True</td>\n",
       "      <td>False</td>\n",
       "      <td>Maarij</td>\n",
       "      <td>AAD419</td>\n",
       "      <td>__Timestamp__2022-05-27T14:32:57.404Z</td>\n",
       "      <td>__Timestamp__2022-05-27T16:13:08.618Z</td>\n",
       "    </tr>\n",
       "    <tr>\n",
       "      <th>33</th>\n",
       "      <td>71</td>\n",
       "      <td>2018</td>\n",
       "      <td>EE</td>\n",
       "      <td>__Timestamp__2022-06-08T19:00:00.000Z</td>\n",
       "      <td>True</td>\n",
       "      <td>False</td>\n",
       "      <td>Maarij</td>\n",
       "      <td>AAD419</td>\n",
       "      <td>__Timestamp__2022-05-26T08:38:57.404Z</td>\n",
       "      <td>__Timestamp__2022-05-26T13:09:50.138Z</td>\n",
       "    </tr>\n",
       "    <tr>\n",
       "      <th>20</th>\n",
       "      <td>43</td>\n",
       "      <td>2018</td>\n",
       "      <td>EE</td>\n",
       "      <td>__Timestamp__2022-06-08T19:00:00.000Z</td>\n",
       "      <td>True</td>\n",
       "      <td>False</td>\n",
       "      <td>Maarij</td>\n",
       "      <td>AAD419</td>\n",
       "      <td>__Timestamp__2022-05-25T08:24:57.404Z</td>\n",
       "      <td>__Timestamp__2022-05-25T11:54:21.609Z</td>\n",
       "    </tr>\n",
       "    <tr>\n",
       "      <th>25</th>\n",
       "      <td>52</td>\n",
       "      <td>2018</td>\n",
       "      <td>CS</td>\n",
       "      <td>__Timestamp__2022-06-07T19:00:00.000Z</td>\n",
       "      <td>True</td>\n",
       "      <td>True</td>\n",
       "      <td>Ali</td>\n",
       "      <td>AAN797</td>\n",
       "      <td>__Timestamp__2022-05-25T14:34:20.070Z</td>\n",
       "      <td>__Timestamp__2022-05-25T16:15:45.054Z</td>\n",
       "    </tr>\n",
       "  </tbody>\n",
       "</table>\n",
       "</div>"
      ],
      "text/plain": [
       "    index  Batch Department                               Due_Date  Fee_Paid  \\\n",
       "13     32   2018         EE  __Timestamp__2022-06-08T19:00:00.000Z      True   \n",
       "50    100   2018         EE  __Timestamp__2022-06-08T19:00:00.000Z      True   \n",
       "33     71   2018         EE  __Timestamp__2022-06-08T19:00:00.000Z      True   \n",
       "20     43   2018         EE  __Timestamp__2022-06-08T19:00:00.000Z      True   \n",
       "25     52   2018         CS  __Timestamp__2022-06-07T19:00:00.000Z      True   \n",
       "\n",
       "     Male    Name Number_Plate                          Time_Of_Entry  \\\n",
       "13  False  Maarij       AAD419  __Timestamp__2022-05-23T08:37:57.404Z   \n",
       "50  False  Maarij       AAD419  __Timestamp__2022-05-27T14:32:57.404Z   \n",
       "33  False  Maarij       AAD419  __Timestamp__2022-05-26T08:38:57.404Z   \n",
       "20  False  Maarij       AAD419  __Timestamp__2022-05-25T08:24:57.404Z   \n",
       "25   True     Ali       AAN797  __Timestamp__2022-05-25T14:34:20.070Z   \n",
       "\n",
       "                             Time_Of_Exit  \n",
       "13  __Timestamp__2022-05-23T11:42:49.641Z  \n",
       "50  __Timestamp__2022-05-27T16:13:08.618Z  \n",
       "33  __Timestamp__2022-05-26T13:09:50.138Z  \n",
       "20  __Timestamp__2022-05-25T11:54:21.609Z  \n",
       "25  __Timestamp__2022-05-25T16:15:45.054Z  "
      ]
     },
     "execution_count": 17,
     "metadata": {},
     "output_type": "execute_result"
    }
   ],
   "source": [
    "df2.sort_values(by='Number_Plate').head()"
   ]
  },
  {
   "cell_type": "code",
   "execution_count": 18,
   "id": "c6f74678",
   "metadata": {},
   "outputs": [],
   "source": [
    "def get_DateTime(col):\n",
    "    due_date=df2[col].str.split('__')\n",
    "    array=[]\n",
    "    for i in range (0,df2['index'].count()):\n",
    "        array.append(due_date[i][2].split('Z')[0])\n",
    "    newTime=pd.to_datetime(array)\n",
    "    timestamp=pd.DataFrame(newTime,columns=['Time'])\n",
    "    timestamp['Day']=timestamp['Time'].apply(lambda x:x.day_name())\n",
    "    return timestamp"
   ]
  },
  {
   "cell_type": "code",
   "execution_count": 19,
   "id": "729f1c09",
   "metadata": {},
   "outputs": [
    {
     "name": "stderr",
     "output_type": "stream",
     "text": [
      "C:\\Users\\Hassaan\\AppData\\Local\\Temp/ipykernel_24584/281544204.py:2: SettingWithCopyWarning: \n",
      "A value is trying to be set on a copy of a slice from a DataFrame.\n",
      "Try using .loc[row_indexer,col_indexer] = value instead\n",
      "\n",
      "See the caveats in the documentation: https://pandas.pydata.org/pandas-docs/stable/user_guide/indexing.html#returning-a-view-versus-a-copy\n",
      "  df2['Due_Date']=dueDate['Time']\n",
      "C:\\Users\\Hassaan\\AppData\\Local\\Temp/ipykernel_24584/281544204.py:3: SettingWithCopyWarning: \n",
      "A value is trying to be set on a copy of a slice from a DataFrame.\n",
      "Try using .loc[row_indexer,col_indexer] = value instead\n",
      "\n",
      "See the caveats in the documentation: https://pandas.pydata.org/pandas-docs/stable/user_guide/indexing.html#returning-a-view-versus-a-copy\n",
      "  df2['Due_Date_Day']=dueDate['Day']\n"
     ]
    }
   ],
   "source": [
    "dueDate=get_DateTime('Due_Date')\n",
    "df2['Due_Date']=dueDate['Time']\n",
    "df2['Due_Date_Day']=dueDate['Day']"
   ]
  },
  {
   "cell_type": "code",
   "execution_count": 20,
   "id": "5928592d",
   "metadata": {},
   "outputs": [
    {
     "data": {
      "text/html": [
       "<div>\n",
       "<style scoped>\n",
       "    .dataframe tbody tr th:only-of-type {\n",
       "        vertical-align: middle;\n",
       "    }\n",
       "\n",
       "    .dataframe tbody tr th {\n",
       "        vertical-align: top;\n",
       "    }\n",
       "\n",
       "    .dataframe thead th {\n",
       "        text-align: right;\n",
       "    }\n",
       "</style>\n",
       "<table border=\"1\" class=\"dataframe\">\n",
       "  <thead>\n",
       "    <tr style=\"text-align: right;\">\n",
       "      <th></th>\n",
       "      <th>index</th>\n",
       "      <th>Batch</th>\n",
       "      <th>Department</th>\n",
       "      <th>Due_Date</th>\n",
       "      <th>Fee_Paid</th>\n",
       "      <th>Male</th>\n",
       "      <th>Name</th>\n",
       "      <th>Number_Plate</th>\n",
       "      <th>Time_Of_Entry</th>\n",
       "      <th>Time_Of_Exit</th>\n",
       "      <th>Due_Date_Day</th>\n",
       "    </tr>\n",
       "  </thead>\n",
       "  <tbody>\n",
       "    <tr>\n",
       "      <th>0</th>\n",
       "      <td>2</td>\n",
       "      <td>2018</td>\n",
       "      <td>CS</td>\n",
       "      <td>2022-06-02 19:00:00</td>\n",
       "      <td>True</td>\n",
       "      <td>True</td>\n",
       "      <td>Latif</td>\n",
       "      <td>AGN218</td>\n",
       "      <td>__Timestamp__2022-05-23T09:16:00.199Z</td>\n",
       "      <td>__Timestamp__2022-05-23T13:16:09.355Z</td>\n",
       "      <td>Thursday</td>\n",
       "    </tr>\n",
       "    <tr>\n",
       "      <th>1</th>\n",
       "      <td>4</td>\n",
       "      <td>2018</td>\n",
       "      <td>EE</td>\n",
       "      <td>2022-05-30 19:00:00</td>\n",
       "      <td>True</td>\n",
       "      <td>False</td>\n",
       "      <td>Mahreen</td>\n",
       "      <td>LEB4333</td>\n",
       "      <td>__Timestamp__2022-05-25T08:30:17.779Z</td>\n",
       "      <td>__Timestamp__2022-05-25T10:03:27.508Z</td>\n",
       "      <td>Monday</td>\n",
       "    </tr>\n",
       "    <tr>\n",
       "      <th>2</th>\n",
       "      <td>5</td>\n",
       "      <td>2018</td>\n",
       "      <td>EE</td>\n",
       "      <td>2022-06-23 19:00:00</td>\n",
       "      <td>True</td>\n",
       "      <td>True</td>\n",
       "      <td>Raheem</td>\n",
       "      <td>RLG5</td>\n",
       "      <td>__Timestamp__2022-05-24T08:40:49.283Z</td>\n",
       "      <td>__Timestamp__2022-05-24T13:16:27.313Z</td>\n",
       "      <td>Thursday</td>\n",
       "    </tr>\n",
       "    <tr>\n",
       "      <th>3</th>\n",
       "      <td>8</td>\n",
       "      <td>2018</td>\n",
       "      <td>CS</td>\n",
       "      <td>2022-06-16 19:00:00</td>\n",
       "      <td>True</td>\n",
       "      <td>True</td>\n",
       "      <td>Kashan</td>\n",
       "      <td>ADJ010</td>\n",
       "      <td>__Timestamp__2022-05-23T08:26:11.647Z</td>\n",
       "      <td>__Timestamp__2022-05-23T10:07:37.510Z</td>\n",
       "      <td>Thursday</td>\n",
       "    </tr>\n",
       "    <tr>\n",
       "      <th>4</th>\n",
       "      <td>10</td>\n",
       "      <td>2018</td>\n",
       "      <td>EE</td>\n",
       "      <td>2022-05-30 19:00:00</td>\n",
       "      <td>True</td>\n",
       "      <td>False</td>\n",
       "      <td>Mahreen</td>\n",
       "      <td>LEB4333</td>\n",
       "      <td>__Timestamp__2022-05-26T14:28:44.752Z</td>\n",
       "      <td>__Timestamp__2022-05-26T16:06:02.463Z</td>\n",
       "      <td>Monday</td>\n",
       "    </tr>\n",
       "  </tbody>\n",
       "</table>\n",
       "</div>"
      ],
      "text/plain": [
       "   index  Batch Department            Due_Date  Fee_Paid   Male     Name  \\\n",
       "0      2   2018         CS 2022-06-02 19:00:00      True   True    Latif   \n",
       "1      4   2018         EE 2022-05-30 19:00:00      True  False  Mahreen   \n",
       "2      5   2018         EE 2022-06-23 19:00:00      True   True   Raheem   \n",
       "3      8   2018         CS 2022-06-16 19:00:00      True   True   Kashan   \n",
       "4     10   2018         EE 2022-05-30 19:00:00      True  False  Mahreen   \n",
       "\n",
       "  Number_Plate                          Time_Of_Entry  \\\n",
       "0       AGN218  __Timestamp__2022-05-23T09:16:00.199Z   \n",
       "1      LEB4333  __Timestamp__2022-05-25T08:30:17.779Z   \n",
       "2         RLG5  __Timestamp__2022-05-24T08:40:49.283Z   \n",
       "3       ADJ010  __Timestamp__2022-05-23T08:26:11.647Z   \n",
       "4      LEB4333  __Timestamp__2022-05-26T14:28:44.752Z   \n",
       "\n",
       "                            Time_Of_Exit Due_Date_Day  \n",
       "0  __Timestamp__2022-05-23T13:16:09.355Z     Thursday  \n",
       "1  __Timestamp__2022-05-25T10:03:27.508Z       Monday  \n",
       "2  __Timestamp__2022-05-24T13:16:27.313Z     Thursday  \n",
       "3  __Timestamp__2022-05-23T10:07:37.510Z     Thursday  \n",
       "4  __Timestamp__2022-05-26T16:06:02.463Z       Monday  "
      ]
     },
     "execution_count": 20,
     "metadata": {},
     "output_type": "execute_result"
    }
   ],
   "source": [
    "df2.head()"
   ]
  },
  {
   "cell_type": "code",
   "execution_count": 21,
   "id": "9c89d925",
   "metadata": {},
   "outputs": [
    {
     "name": "stderr",
     "output_type": "stream",
     "text": [
      "C:\\Users\\Hassaan\\AppData\\Local\\Temp/ipykernel_24584/1126497978.py:2: SettingWithCopyWarning: \n",
      "A value is trying to be set on a copy of a slice from a DataFrame.\n",
      "Try using .loc[row_indexer,col_indexer] = value instead\n",
      "\n",
      "See the caveats in the documentation: https://pandas.pydata.org/pandas-docs/stable/user_guide/indexing.html#returning-a-view-versus-a-copy\n",
      "  df2['Time_Of_Entry']=dueDate['Time']\n",
      "C:\\Users\\Hassaan\\AppData\\Local\\Temp/ipykernel_24584/1126497978.py:3: SettingWithCopyWarning: \n",
      "A value is trying to be set on a copy of a slice from a DataFrame.\n",
      "Try using .loc[row_indexer,col_indexer] = value instead\n",
      "\n",
      "See the caveats in the documentation: https://pandas.pydata.org/pandas-docs/stable/user_guide/indexing.html#returning-a-view-versus-a-copy\n",
      "  df2['Time_Of_Entry_Day']=dueDate['Day']\n"
     ]
    }
   ],
   "source": [
    "dueDate=get_DateTime('Time_Of_Entry')\n",
    "df2['Time_Of_Entry']=dueDate['Time']\n",
    "df2['Time_Of_Entry_Day']=dueDate['Day']"
   ]
  },
  {
   "cell_type": "code",
   "execution_count": 22,
   "id": "9b66a97d",
   "metadata": {},
   "outputs": [
    {
     "data": {
      "text/html": [
       "<div>\n",
       "<style scoped>\n",
       "    .dataframe tbody tr th:only-of-type {\n",
       "        vertical-align: middle;\n",
       "    }\n",
       "\n",
       "    .dataframe tbody tr th {\n",
       "        vertical-align: top;\n",
       "    }\n",
       "\n",
       "    .dataframe thead th {\n",
       "        text-align: right;\n",
       "    }\n",
       "</style>\n",
       "<table border=\"1\" class=\"dataframe\">\n",
       "  <thead>\n",
       "    <tr style=\"text-align: right;\">\n",
       "      <th></th>\n",
       "      <th>index</th>\n",
       "      <th>Batch</th>\n",
       "      <th>Department</th>\n",
       "      <th>Due_Date</th>\n",
       "      <th>Fee_Paid</th>\n",
       "      <th>Male</th>\n",
       "      <th>Name</th>\n",
       "      <th>Number_Plate</th>\n",
       "      <th>Time_Of_Entry</th>\n",
       "      <th>Time_Of_Exit</th>\n",
       "      <th>Due_Date_Day</th>\n",
       "      <th>Time_Of_Entry_Day</th>\n",
       "    </tr>\n",
       "  </thead>\n",
       "  <tbody>\n",
       "    <tr>\n",
       "      <th>0</th>\n",
       "      <td>2</td>\n",
       "      <td>2018</td>\n",
       "      <td>CS</td>\n",
       "      <td>2022-06-02 19:00:00</td>\n",
       "      <td>True</td>\n",
       "      <td>True</td>\n",
       "      <td>Latif</td>\n",
       "      <td>AGN218</td>\n",
       "      <td>2022-05-23 09:16:00.199</td>\n",
       "      <td>__Timestamp__2022-05-23T13:16:09.355Z</td>\n",
       "      <td>Thursday</td>\n",
       "      <td>Monday</td>\n",
       "    </tr>\n",
       "    <tr>\n",
       "      <th>1</th>\n",
       "      <td>4</td>\n",
       "      <td>2018</td>\n",
       "      <td>EE</td>\n",
       "      <td>2022-05-30 19:00:00</td>\n",
       "      <td>True</td>\n",
       "      <td>False</td>\n",
       "      <td>Mahreen</td>\n",
       "      <td>LEB4333</td>\n",
       "      <td>2022-05-25 08:30:17.779</td>\n",
       "      <td>__Timestamp__2022-05-25T10:03:27.508Z</td>\n",
       "      <td>Monday</td>\n",
       "      <td>Wednesday</td>\n",
       "    </tr>\n",
       "    <tr>\n",
       "      <th>2</th>\n",
       "      <td>5</td>\n",
       "      <td>2018</td>\n",
       "      <td>EE</td>\n",
       "      <td>2022-06-23 19:00:00</td>\n",
       "      <td>True</td>\n",
       "      <td>True</td>\n",
       "      <td>Raheem</td>\n",
       "      <td>RLG5</td>\n",
       "      <td>2022-05-24 08:40:49.283</td>\n",
       "      <td>__Timestamp__2022-05-24T13:16:27.313Z</td>\n",
       "      <td>Thursday</td>\n",
       "      <td>Tuesday</td>\n",
       "    </tr>\n",
       "    <tr>\n",
       "      <th>3</th>\n",
       "      <td>8</td>\n",
       "      <td>2018</td>\n",
       "      <td>CS</td>\n",
       "      <td>2022-06-16 19:00:00</td>\n",
       "      <td>True</td>\n",
       "      <td>True</td>\n",
       "      <td>Kashan</td>\n",
       "      <td>ADJ010</td>\n",
       "      <td>2022-05-23 08:26:11.647</td>\n",
       "      <td>__Timestamp__2022-05-23T10:07:37.510Z</td>\n",
       "      <td>Thursday</td>\n",
       "      <td>Monday</td>\n",
       "    </tr>\n",
       "    <tr>\n",
       "      <th>4</th>\n",
       "      <td>10</td>\n",
       "      <td>2018</td>\n",
       "      <td>EE</td>\n",
       "      <td>2022-05-30 19:00:00</td>\n",
       "      <td>True</td>\n",
       "      <td>False</td>\n",
       "      <td>Mahreen</td>\n",
       "      <td>LEB4333</td>\n",
       "      <td>2022-05-26 14:28:44.752</td>\n",
       "      <td>__Timestamp__2022-05-26T16:06:02.463Z</td>\n",
       "      <td>Monday</td>\n",
       "      <td>Thursday</td>\n",
       "    </tr>\n",
       "  </tbody>\n",
       "</table>\n",
       "</div>"
      ],
      "text/plain": [
       "   index  Batch Department            Due_Date  Fee_Paid   Male     Name  \\\n",
       "0      2   2018         CS 2022-06-02 19:00:00      True   True    Latif   \n",
       "1      4   2018         EE 2022-05-30 19:00:00      True  False  Mahreen   \n",
       "2      5   2018         EE 2022-06-23 19:00:00      True   True   Raheem   \n",
       "3      8   2018         CS 2022-06-16 19:00:00      True   True   Kashan   \n",
       "4     10   2018         EE 2022-05-30 19:00:00      True  False  Mahreen   \n",
       "\n",
       "  Number_Plate           Time_Of_Entry                           Time_Of_Exit  \\\n",
       "0       AGN218 2022-05-23 09:16:00.199  __Timestamp__2022-05-23T13:16:09.355Z   \n",
       "1      LEB4333 2022-05-25 08:30:17.779  __Timestamp__2022-05-25T10:03:27.508Z   \n",
       "2         RLG5 2022-05-24 08:40:49.283  __Timestamp__2022-05-24T13:16:27.313Z   \n",
       "3       ADJ010 2022-05-23 08:26:11.647  __Timestamp__2022-05-23T10:07:37.510Z   \n",
       "4      LEB4333 2022-05-26 14:28:44.752  __Timestamp__2022-05-26T16:06:02.463Z   \n",
       "\n",
       "  Due_Date_Day Time_Of_Entry_Day  \n",
       "0     Thursday            Monday  \n",
       "1       Monday         Wednesday  \n",
       "2     Thursday           Tuesday  \n",
       "3     Thursday            Monday  \n",
       "4       Monday          Thursday  "
      ]
     },
     "execution_count": 22,
     "metadata": {},
     "output_type": "execute_result"
    }
   ],
   "source": [
    "df2.head()"
   ]
  },
  {
   "cell_type": "code",
   "execution_count": 23,
   "id": "9d11493a",
   "metadata": {},
   "outputs": [
    {
     "name": "stderr",
     "output_type": "stream",
     "text": [
      "C:\\Users\\Hassaan\\AppData\\Local\\Temp/ipykernel_24584/3582740139.py:2: SettingWithCopyWarning: \n",
      "A value is trying to be set on a copy of a slice from a DataFrame.\n",
      "Try using .loc[row_indexer,col_indexer] = value instead\n",
      "\n",
      "See the caveats in the documentation: https://pandas.pydata.org/pandas-docs/stable/user_guide/indexing.html#returning-a-view-versus-a-copy\n",
      "  df2['Time_Of_Exit']=dueDate['Time']\n",
      "C:\\Users\\Hassaan\\AppData\\Local\\Temp/ipykernel_24584/3582740139.py:3: SettingWithCopyWarning: \n",
      "A value is trying to be set on a copy of a slice from a DataFrame.\n",
      "Try using .loc[row_indexer,col_indexer] = value instead\n",
      "\n",
      "See the caveats in the documentation: https://pandas.pydata.org/pandas-docs/stable/user_guide/indexing.html#returning-a-view-versus-a-copy\n",
      "  df2['Time_Of_Exit_Day']=dueDate['Day']\n"
     ]
    }
   ],
   "source": [
    "dueDate=get_DateTime('Time_Of_Exit')\n",
    "df2['Time_Of_Exit']=dueDate['Time']\n",
    "df2['Time_Of_Exit_Day']=dueDate['Day']"
   ]
  },
  {
   "cell_type": "code",
   "execution_count": 24,
   "id": "8495b007",
   "metadata": {},
   "outputs": [
    {
     "data": {
      "text/html": [
       "<div>\n",
       "<style scoped>\n",
       "    .dataframe tbody tr th:only-of-type {\n",
       "        vertical-align: middle;\n",
       "    }\n",
       "\n",
       "    .dataframe tbody tr th {\n",
       "        vertical-align: top;\n",
       "    }\n",
       "\n",
       "    .dataframe thead th {\n",
       "        text-align: right;\n",
       "    }\n",
       "</style>\n",
       "<table border=\"1\" class=\"dataframe\">\n",
       "  <thead>\n",
       "    <tr style=\"text-align: right;\">\n",
       "      <th></th>\n",
       "      <th>index</th>\n",
       "      <th>Batch</th>\n",
       "      <th>Department</th>\n",
       "      <th>Due_Date</th>\n",
       "      <th>Fee_Paid</th>\n",
       "      <th>Male</th>\n",
       "      <th>Name</th>\n",
       "      <th>Number_Plate</th>\n",
       "      <th>Time_Of_Entry</th>\n",
       "      <th>Time_Of_Exit</th>\n",
       "      <th>Due_Date_Day</th>\n",
       "      <th>Time_Of_Entry_Day</th>\n",
       "      <th>Time_Of_Exit_Day</th>\n",
       "    </tr>\n",
       "  </thead>\n",
       "  <tbody>\n",
       "    <tr>\n",
       "      <th>0</th>\n",
       "      <td>2</td>\n",
       "      <td>2018</td>\n",
       "      <td>CS</td>\n",
       "      <td>2022-06-02 19:00:00</td>\n",
       "      <td>True</td>\n",
       "      <td>True</td>\n",
       "      <td>Latif</td>\n",
       "      <td>AGN218</td>\n",
       "      <td>2022-05-23 09:16:00.199</td>\n",
       "      <td>2022-05-23 13:16:09.355</td>\n",
       "      <td>Thursday</td>\n",
       "      <td>Monday</td>\n",
       "      <td>Monday</td>\n",
       "    </tr>\n",
       "    <tr>\n",
       "      <th>1</th>\n",
       "      <td>4</td>\n",
       "      <td>2018</td>\n",
       "      <td>EE</td>\n",
       "      <td>2022-05-30 19:00:00</td>\n",
       "      <td>True</td>\n",
       "      <td>False</td>\n",
       "      <td>Mahreen</td>\n",
       "      <td>LEB4333</td>\n",
       "      <td>2022-05-25 08:30:17.779</td>\n",
       "      <td>2022-05-25 10:03:27.508</td>\n",
       "      <td>Monday</td>\n",
       "      <td>Wednesday</td>\n",
       "      <td>Wednesday</td>\n",
       "    </tr>\n",
       "    <tr>\n",
       "      <th>2</th>\n",
       "      <td>5</td>\n",
       "      <td>2018</td>\n",
       "      <td>EE</td>\n",
       "      <td>2022-06-23 19:00:00</td>\n",
       "      <td>True</td>\n",
       "      <td>True</td>\n",
       "      <td>Raheem</td>\n",
       "      <td>RLG5</td>\n",
       "      <td>2022-05-24 08:40:49.283</td>\n",
       "      <td>2022-05-24 13:16:27.313</td>\n",
       "      <td>Thursday</td>\n",
       "      <td>Tuesday</td>\n",
       "      <td>Tuesday</td>\n",
       "    </tr>\n",
       "    <tr>\n",
       "      <th>3</th>\n",
       "      <td>8</td>\n",
       "      <td>2018</td>\n",
       "      <td>CS</td>\n",
       "      <td>2022-06-16 19:00:00</td>\n",
       "      <td>True</td>\n",
       "      <td>True</td>\n",
       "      <td>Kashan</td>\n",
       "      <td>ADJ010</td>\n",
       "      <td>2022-05-23 08:26:11.647</td>\n",
       "      <td>2022-05-23 10:07:37.510</td>\n",
       "      <td>Thursday</td>\n",
       "      <td>Monday</td>\n",
       "      <td>Monday</td>\n",
       "    </tr>\n",
       "    <tr>\n",
       "      <th>4</th>\n",
       "      <td>10</td>\n",
       "      <td>2018</td>\n",
       "      <td>EE</td>\n",
       "      <td>2022-05-30 19:00:00</td>\n",
       "      <td>True</td>\n",
       "      <td>False</td>\n",
       "      <td>Mahreen</td>\n",
       "      <td>LEB4333</td>\n",
       "      <td>2022-05-26 14:28:44.752</td>\n",
       "      <td>2022-05-26 16:06:02.463</td>\n",
       "      <td>Monday</td>\n",
       "      <td>Thursday</td>\n",
       "      <td>Thursday</td>\n",
       "    </tr>\n",
       "  </tbody>\n",
       "</table>\n",
       "</div>"
      ],
      "text/plain": [
       "   index  Batch Department            Due_Date  Fee_Paid   Male     Name  \\\n",
       "0      2   2018         CS 2022-06-02 19:00:00      True   True    Latif   \n",
       "1      4   2018         EE 2022-05-30 19:00:00      True  False  Mahreen   \n",
       "2      5   2018         EE 2022-06-23 19:00:00      True   True   Raheem   \n",
       "3      8   2018         CS 2022-06-16 19:00:00      True   True   Kashan   \n",
       "4     10   2018         EE 2022-05-30 19:00:00      True  False  Mahreen   \n",
       "\n",
       "  Number_Plate           Time_Of_Entry            Time_Of_Exit Due_Date_Day  \\\n",
       "0       AGN218 2022-05-23 09:16:00.199 2022-05-23 13:16:09.355     Thursday   \n",
       "1      LEB4333 2022-05-25 08:30:17.779 2022-05-25 10:03:27.508       Monday   \n",
       "2         RLG5 2022-05-24 08:40:49.283 2022-05-24 13:16:27.313     Thursday   \n",
       "3       ADJ010 2022-05-23 08:26:11.647 2022-05-23 10:07:37.510     Thursday   \n",
       "4      LEB4333 2022-05-26 14:28:44.752 2022-05-26 16:06:02.463       Monday   \n",
       "\n",
       "  Time_Of_Entry_Day Time_Of_Exit_Day  \n",
       "0            Monday           Monday  \n",
       "1         Wednesday        Wednesday  \n",
       "2           Tuesday          Tuesday  \n",
       "3            Monday           Monday  \n",
       "4          Thursday         Thursday  "
      ]
     },
     "execution_count": 24,
     "metadata": {},
     "output_type": "execute_result"
    }
   ],
   "source": [
    "df2.head()"
   ]
  },
  {
   "cell_type": "code",
   "execution_count": 26,
   "id": "47536eb4",
   "metadata": {},
   "outputs": [],
   "source": [
    "data=[df2['Department'],df2['Male'],df2['Name'],df2['Due_Date']]\n",
    "headers=['Department','Male','Name','Due_Date']\n",
    "MalesAndFemales=pd.concat(data,axis=1,keys=headers)"
   ]
  },
  {
   "cell_type": "code",
   "execution_count": 27,
   "id": "1d09f35c",
   "metadata": {},
   "outputs": [],
   "source": [
    "MalesAndFemales.drop_duplicates(inplace=True)"
   ]
  },
  {
   "cell_type": "code",
   "execution_count": 28,
   "id": "09131779",
   "metadata": {},
   "outputs": [
    {
     "data": {
      "text/html": [
       "<div>\n",
       "<style scoped>\n",
       "    .dataframe tbody tr th:only-of-type {\n",
       "        vertical-align: middle;\n",
       "    }\n",
       "\n",
       "    .dataframe tbody tr th {\n",
       "        vertical-align: top;\n",
       "    }\n",
       "\n",
       "    .dataframe thead th {\n",
       "        text-align: right;\n",
       "    }\n",
       "</style>\n",
       "<table border=\"1\" class=\"dataframe\">\n",
       "  <thead>\n",
       "    <tr style=\"text-align: right;\">\n",
       "      <th></th>\n",
       "      <th>Department</th>\n",
       "      <th>Male</th>\n",
       "      <th>Name</th>\n",
       "      <th>Due_Date</th>\n",
       "    </tr>\n",
       "  </thead>\n",
       "  <tbody>\n",
       "    <tr>\n",
       "      <th>0</th>\n",
       "      <td>CS</td>\n",
       "      <td>True</td>\n",
       "      <td>Latif</td>\n",
       "      <td>2022-06-02 19:00:00</td>\n",
       "    </tr>\n",
       "    <tr>\n",
       "      <th>1</th>\n",
       "      <td>EE</td>\n",
       "      <td>False</td>\n",
       "      <td>Mahreen</td>\n",
       "      <td>2022-05-30 19:00:00</td>\n",
       "    </tr>\n",
       "    <tr>\n",
       "      <th>2</th>\n",
       "      <td>EE</td>\n",
       "      <td>True</td>\n",
       "      <td>Raheem</td>\n",
       "      <td>2022-06-23 19:00:00</td>\n",
       "    </tr>\n",
       "    <tr>\n",
       "      <th>3</th>\n",
       "      <td>CS</td>\n",
       "      <td>True</td>\n",
       "      <td>Kashan</td>\n",
       "      <td>2022-06-16 19:00:00</td>\n",
       "    </tr>\n",
       "    <tr>\n",
       "      <th>5</th>\n",
       "      <td>CV</td>\n",
       "      <td>True</td>\n",
       "      <td>Zulfiqar</td>\n",
       "      <td>2022-06-12 19:00:00</td>\n",
       "    </tr>\n",
       "    <tr>\n",
       "      <th>6</th>\n",
       "      <td>CS</td>\n",
       "      <td>True</td>\n",
       "      <td>Saad</td>\n",
       "      <td>2022-06-08 19:00:00</td>\n",
       "    </tr>\n",
       "    <tr>\n",
       "      <th>7</th>\n",
       "      <td>EE</td>\n",
       "      <td>True</td>\n",
       "      <td>Hassaan</td>\n",
       "      <td>2022-06-23 19:00:00</td>\n",
       "    </tr>\n",
       "    <tr>\n",
       "      <th>8</th>\n",
       "      <td>CS</td>\n",
       "      <td>True</td>\n",
       "      <td>Ali</td>\n",
       "      <td>2022-06-07 19:00:00</td>\n",
       "    </tr>\n",
       "    <tr>\n",
       "      <th>9</th>\n",
       "      <td>BBA</td>\n",
       "      <td>True</td>\n",
       "      <td>Yusuf</td>\n",
       "      <td>2022-06-02 19:00:00</td>\n",
       "    </tr>\n",
       "    <tr>\n",
       "      <th>12</th>\n",
       "      <td>EE</td>\n",
       "      <td>True</td>\n",
       "      <td>Muaz</td>\n",
       "      <td>2022-05-29 19:00:00</td>\n",
       "    </tr>\n",
       "    <tr>\n",
       "      <th>13</th>\n",
       "      <td>EE</td>\n",
       "      <td>False</td>\n",
       "      <td>Maarij</td>\n",
       "      <td>2022-06-08 19:00:00</td>\n",
       "    </tr>\n",
       "    <tr>\n",
       "      <th>16</th>\n",
       "      <td>EE</td>\n",
       "      <td>True</td>\n",
       "      <td>Adil</td>\n",
       "      <td>2022-05-31 19:00:00</td>\n",
       "    </tr>\n",
       "    <tr>\n",
       "      <th>17</th>\n",
       "      <td>CS</td>\n",
       "      <td>True</td>\n",
       "      <td>Hamza</td>\n",
       "      <td>2022-05-31 19:00:00</td>\n",
       "    </tr>\n",
       "    <tr>\n",
       "      <th>22</th>\n",
       "      <td>CS</td>\n",
       "      <td>True</td>\n",
       "      <td>Faizan</td>\n",
       "      <td>2022-06-02 19:00:00</td>\n",
       "    </tr>\n",
       "    <tr>\n",
       "      <th>27</th>\n",
       "      <td>CS</td>\n",
       "      <td>False</td>\n",
       "      <td>Fatima</td>\n",
       "      <td>2022-05-31 19:00:00</td>\n",
       "    </tr>\n",
       "  </tbody>\n",
       "</table>\n",
       "</div>"
      ],
      "text/plain": [
       "   Department   Male      Name            Due_Date\n",
       "0          CS   True     Latif 2022-06-02 19:00:00\n",
       "1          EE  False   Mahreen 2022-05-30 19:00:00\n",
       "2          EE   True    Raheem 2022-06-23 19:00:00\n",
       "3          CS   True    Kashan 2022-06-16 19:00:00\n",
       "5          CV   True  Zulfiqar 2022-06-12 19:00:00\n",
       "6          CS   True      Saad 2022-06-08 19:00:00\n",
       "7          EE   True   Hassaan 2022-06-23 19:00:00\n",
       "8          CS   True       Ali 2022-06-07 19:00:00\n",
       "9         BBA   True     Yusuf 2022-06-02 19:00:00\n",
       "12         EE   True      Muaz 2022-05-29 19:00:00\n",
       "13         EE  False    Maarij 2022-06-08 19:00:00\n",
       "16         EE   True      Adil 2022-05-31 19:00:00\n",
       "17         CS   True     Hamza 2022-05-31 19:00:00\n",
       "22         CS   True    Faizan 2022-06-02 19:00:00\n",
       "27         CS  False    Fatima 2022-05-31 19:00:00"
      ]
     },
     "execution_count": 28,
     "metadata": {},
     "output_type": "execute_result"
    }
   ],
   "source": [
    "MalesAndFemales"
   ]
  },
  {
   "cell_type": "markdown",
   "id": "b589cbe3",
   "metadata": {},
   "source": [
    "**Number of Allowed People based on Gender in each Department**"
   ]
  },
  {
   "cell_type": "code",
   "execution_count": 29,
   "id": "a5b1e843",
   "metadata": {},
   "outputs": [
    {
     "data": {
      "text/plain": [
       "<AxesSubplot:xlabel='Department', ylabel='count'>"
      ]
     },
     "execution_count": 29,
     "metadata": {},
     "output_type": "execute_result"
    },
    {
     "data": {
      "image/png": "[encoded data removed]",
      "text/plain": [
       "<Figure size 432x288 with 1 Axes>"
      ]
     },
     "metadata": {},
     "output_type": "display_data"
    }
   ],
   "source": [
    "sns.countplot(data=MalesAndFemales,x='Department',hue='Male',palette='magma',alpha=0.7)"
   ]
  },
  {
   "cell_type": "markdown",
   "id": "53cfafd3",
   "metadata": {},
   "source": [
    "**Due Dates**"
   ]
  },
  {
   "cell_type": "code",
   "execution_count": 30,
   "id": "30a4871d",
   "metadata": {},
   "outputs": [
    {
     "data": {
      "text/plain": [
       "<AxesSubplot:xlabel='Due_Date'>"
      ]
     },
     "execution_count": 30,
     "metadata": {},
     "output_type": "execute_result"
    },
    {
     "data": {
      "image/png": "[encoded data removed]",
      "text/plain": [
       "<Figure size 432x288 with 1 Axes>"
      ]
     },
     "metadata": {},
     "output_type": "display_data"
    }
   ],
   "source": [
    "groupedDue=df2.groupby(MalesAndFemales['Due_Date'].apply(lambda x:x.date()))['index'].count()\n",
    "groupedDue.plot(kind='bar',cmap='terrain',alpha=0.7)"
   ]
  },
  {
   "cell_type": "markdown",
   "id": "81a25d99",
   "metadata": {},
   "source": [
    "**Allowed Males and Females**"
   ]
  },
  {
   "cell_type": "code",
   "execution_count": 93,
   "id": "f3daa7fa",
   "metadata": {},
   "outputs": [
    {
     "data": {
      "text/plain": [
       "<AxesSubplot:xlabel='Male', ylabel='count'>"
      ]
     },
     "execution_count": 93,
     "metadata": {},
     "output_type": "execute_result"
    },
    {
     "data": {
      "image/png": "[encoded data removed]",
      "text/plain": [
       "<Figure size 432x288 with 1 Axes>"
      ]
     },
     "metadata": {},
     "output_type": "display_data"
    }
   ],
   "source": [
    "sns.countplot(data=MalesAndFemales,x='Male',palette='viridis')"
   ]
  },
  {
   "cell_type": "markdown",
   "id": "6bc5370e",
   "metadata": {},
   "source": [
    "**Number of People that entered Parking Lot on specific Days**"
   ]
  },
  {
   "cell_type": "code",
   "execution_count": 94,
   "id": "bf1f0898",
   "metadata": {},
   "outputs": [
    {
     "data": {
      "text/plain": [
       "<AxesSubplot:xlabel='Time_Of_Entry'>"
      ]
     },
     "execution_count": 94,
     "metadata": {},
     "output_type": "execute_result"
    },
    {
     "data": {
      "image/png": "[encoded data removed]",
      "text/plain": [
       "<Figure size 432x288 with 1 Axes>"
      ]
     },
     "metadata": {},
     "output_type": "display_data"
    }
   ],
   "source": [
    "groupedEntry=df2.groupby(df2['Time_Of_Entry'].apply(lambda x:x.date()))['index'].count()\n",
    "groupedEntry.plot(kind='bar',cmap='viridis',alpha=0.7)"
   ]
  },
  {
   "cell_type": "markdown",
   "id": "5286fe0a",
   "metadata": {},
   "source": [
    "**Number of People that entered Parking Lot on specific Days from 8 to 10am**"
   ]
  },
  {
   "cell_type": "code",
   "execution_count": 98,
   "id": "e8d00709",
   "metadata": {},
   "outputs": [
    {
     "data": {
      "text/plain": [
       "<AxesSubplot:xlabel='Time_Of_Entry_Day'>"
      ]
     },
     "execution_count": 98,
     "metadata": {},
     "output_type": "execute_result"
    },
    {
     "data": {
      "image/png": "[encoded data removed]",
      "text/plain": [
       "<Figure size 432x288 with 1 Axes>"
      ]
     },
     "metadata": {},
     "output_type": "display_data"
    }
   ],
   "source": [
    "timeOfEntry_8_10=df2[(df2['Time_Of_Entry'].apply(lambda x:x.hour)>=8) & (df2['Time_Of_Entry'].apply(lambda x:x.hour)<=10)]\n",
    "grouped_timeOfEntry_8_10=timeOfEntry_8_10.groupby(['Time_Of_Entry_Day']).count()\n",
    "grouped_timeOfEntry_8_10['index'].plot(kind='bar',cmap='cividis',alpha=0.7)"
   ]
  },
  {
   "cell_type": "markdown",
   "id": "db72539a",
   "metadata": {},
   "source": [
    "**Number of People that entered Parking Lot on specific Days from 10am to 12pm**"
   ]
  },
  {
   "cell_type": "code",
   "execution_count": 33,
   "id": "b918a449",
   "metadata": {},
   "outputs": [
    {
     "data": {
      "text/plain": [
       "<AxesSubplot:xlabel='Time_Of_Entry_Day'>"
      ]
     },
     "execution_count": 33,
     "metadata": {},
     "output_type": "execute_result"
    },
    {
     "data": {
      "image/png": "[encoded data removed]",
      "text/plain": [
       "<Figure size 432x288 with 1 Axes>"
      ]
     },
     "metadata": {},
     "output_type": "display_data"
    }
   ],
   "source": [
    "timeOfEntry_10_12=df2[(df2['Time_Of_Entry'].apply(lambda x:x.hour)>=10) & (df2['Time_Of_Entry'].apply(lambda x:x.hour)<=12)]\n",
    "grouped_timeOfEntry_10_12=timeOfEntry_10_12.groupby(['Time_Of_Entry_Day']).count()\n",
    "grouped_timeOfEntry_10_12['index'].plot(kind='bar',cmap='Pastel1',alpha=0.8)"
   ]
  },
  {
   "cell_type": "markdown",
   "id": "32f88fa8",
   "metadata": {},
   "source": [
    "**Number of People that entered Parking Lot on specific Days from 12 to 2pm**"
   ]
  },
  {
   "cell_type": "code",
   "execution_count": 32,
   "id": "a6d33542",
   "metadata": {},
   "outputs": [
    {
     "data": {
      "text/plain": [
       "<AxesSubplot:xlabel='Time_Of_Entry_Day'>"
      ]
     },
     "execution_count": 32,
     "metadata": {},
     "output_type": "execute_result"
    },
    {
     "data": {
      "image/png": "[encoded data removed]",
      "text/plain": [
       "<Figure size 432x288 with 1 Axes>"
      ]
     },
     "metadata": {},
     "output_type": "display_data"
    }
   ],
   "source": [
    "timeOfEntry_12_2=df2[(df2['Time_Of_Entry'].apply(lambda x:x.hour)>=12) & (df2['Time_Of_Entry'].apply(lambda x:x.hour)<=14)]\n",
    "grouped_timeOfEntry_12_2=timeOfEntry_12_2.groupby(['Time_Of_Entry_Day']).count()\n",
    "grouped_timeOfEntry_12_2['index'].plot(kind='bar',cmap='plasma',alpha=0.7)"
   ]
  },
  {
   "cell_type": "markdown",
   "id": "07ef4961",
   "metadata": {},
   "source": [
    "**Number of People that entered Parking Lot on specific Days from 2 to 4pm**"
   ]
  },
  {
   "cell_type": "code",
   "execution_count": 101,
   "id": "5bbba34c",
   "metadata": {},
   "outputs": [
    {
     "data": {
      "text/plain": [
       "<AxesSubplot:xlabel='Time_Of_Entry_Day'>"
      ]
     },
     "execution_count": 101,
     "metadata": {},
     "output_type": "execute_result"
    },
    {
     "data": {
      "image/png": "[encoded data removed]",
      "text/plain": [
       "<Figure size 432x288 with 1 Axes>"
      ]
     },
     "metadata": {},
     "output_type": "display_data"
    }
   ],
   "source": [
    "timeOfEntry_2_4=df2[(df2['Time_Of_Entry'].apply(lambda x:x.hour)>=14) & (df2['Time_Of_Entry'].apply(lambda x:x.hour)<=16)]\n",
    "grouped_timeOfEntry_2_4=timeOfEntry_2_4.groupby(['Time_Of_Entry_Day']).count()\n",
    "grouped_timeOfEntry_2_4['index'].plot(kind='bar',cmap='Spectral',alpha=0.65)"
   ]
  },
  {
   "cell_type": "markdown",
   "id": "a0cfdd6e",
   "metadata": {},
   "source": [
    "**Number of People that exit Parking Lot on specific Days from 8 to 10am**"
   ]
  },
  {
   "cell_type": "code",
   "execution_count": 37,
   "id": "a16b3e93",
   "metadata": {},
   "outputs": [
    {
     "data": {
      "text/plain": [
       "<AxesSubplot:xlabel='Time_Of_Exit_Day'>"
      ]
     },
     "execution_count": 37,
     "metadata": {},
     "output_type": "execute_result"
    },
    {
     "data": {
      "image/png": "[encoded data removed]",
      "text/plain": [
       "<Figure size 432x288 with 1 Axes>"
      ]
     },
     "metadata": {},
     "output_type": "display_data"
    }
   ],
   "source": [
    "timeOfExit_8_10=df2[(df2['Time_Of_Exit'].apply(lambda x:x.hour)>=8) & (df2['Time_Of_Exit'].apply(lambda x:x.hour)<=10)]\n",
    "grouped_timeOfExit_8_10=timeOfExit_8_10.groupby(['Time_Of_Exit_Day']).count()\n",
    "grouped_timeOfExit_8_10['index'].plot(kind='bar',cmap='PRGn',alpha=0.7)"
   ]
  },
  {
   "cell_type": "markdown",
   "id": "13d75c9e",
   "metadata": {},
   "source": [
    "**Number of People that exit Parking Lot on specific Days from 10am to 12pm**"
   ]
  },
  {
   "cell_type": "code",
   "execution_count": 45,
   "id": "8103d0ab",
   "metadata": {},
   "outputs": [
    {
     "data": {
      "text/plain": [
       "<AxesSubplot:xlabel='Time_Of_Exit_Day'>"
      ]
     },
     "execution_count": 45,
     "metadata": {},
     "output_type": "execute_result"
    },
    {
     "data": {
      "image/png": "[encoded data removed]",
      "text/plain": [
       "<Figure size 432x288 with 1 Axes>"
      ]
     },
     "metadata": {},
     "output_type": "display_data"
    }
   ],
   "source": [
    "timeOfExit_10_12=df2[(df2['Time_Of_Exit'].apply(lambda x:x.hour)>=10) & (df2['Time_Of_Exit'].apply(lambda x:x.hour)<=12)]\n",
    "grouped_timeOfExit_10_12=timeOfExit_10_12.groupby(['Time_Of_Exit_Day']).count()\n",
    "grouped_timeOfExit_10_12['index'].plot(kind='bar',cmap='RdGy',alpha=0.7)"
   ]
  },
  {
   "cell_type": "markdown",
   "id": "bf133815",
   "metadata": {},
   "source": [
    "**Number of People that exit Parking Lot on specific Days from 12 to 2pm**"
   ]
  },
  {
   "cell_type": "code",
   "execution_count": 47,
   "id": "1d2e2cad",
   "metadata": {},
   "outputs": [
    {
     "data": {
      "text/plain": [
       "<AxesSubplot:xlabel='Time_Of_Exit_Day'>"
      ]
     },
     "execution_count": 47,
     "metadata": {},
     "output_type": "execute_result"
    },
    {
     "data": {
      "image/png": "[encoded data removed]",
      "text/plain": [
       "<Figure size 432x288 with 1 Axes>"
      ]
     },
     "metadata": {},
     "output_type": "display_data"
    }
   ],
   "source": [
    "timeOfExit_12_2=df2[(df2['Time_Of_Exit'].apply(lambda x:x.hour)>=12) & (df2['Time_Of_Exit'].apply(lambda x:x.hour)<=14)]\n",
    "grouped_timeOfExit_12_2=timeOfExit_12_2.groupby(['Time_Of_Exit_Day']).count()\n",
    "grouped_timeOfExit_12_2['index'].plot(kind='bar',cmap='RdYlGn',alpha=0.7)"
   ]
  },
  {
   "cell_type": "markdown",
   "id": "c7d4a766",
   "metadata": {},
   "source": [
    "**Number of People that exit Parking Lot on specific Days from 2 to 4pm**"
   ]
  },
  {
   "cell_type": "code",
   "execution_count": 51,
   "id": "70969a30",
   "metadata": {},
   "outputs": [
    {
     "data": {
      "text/plain": [
       "<AxesSubplot:xlabel='Time_Of_Exit_Day'>"
      ]
     },
     "execution_count": 51,
     "metadata": {},
     "output_type": "execute_result"
    },
    {
     "data": {
      "image/png": "[encoded data removed]",
      "text/plain": [
       "<Figure size 432x288 with 1 Axes>"
      ]
     },
     "metadata": {},
     "output_type": "display_data"
    }
   ],
   "source": [
    "timeOfExit_2_4=df2[(df2['Time_Of_Exit'].apply(lambda x:x.hour)>=14) & (df2['Time_Of_Exit'].apply(lambda x:x.hour)<=16)]\n",
    "grouped_timeOfExit_2_4=timeOfExit_2_4.groupby(['Time_Of_Exit_Day']).count()\n",
    "grouped_timeOfExit_2_4['index'].plot(kind='bar',cmap='twilight_shifted',alpha=0.6)"
   ]
  }
 ],
 "metadata": {
  "kernelspec": {
   "display_name": "Python 3 (ipykernel)",
   "language": "python",
   "name": "python3"
  },
  "language_info": {
   "codemirror_mode": {
    "name": "ipython",
    "version": 3
   },
   "file_extension": ".py",
   "mimetype": "text/x-python",
   "name": "python",
   "nbconvert_exporter": "python",
   "pygments_lexer": "ipython3",
   "version": "3.9.7"
  }
 },
 "nbformat": 4,
 "nbformat_minor": 5
}
